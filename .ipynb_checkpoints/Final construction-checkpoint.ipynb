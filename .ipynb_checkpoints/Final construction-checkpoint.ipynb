{
 "cells": [
  {
   "cell_type": "code",
   "execution_count": 2,
   "metadata": {},
   "outputs": [],
   "source": [
    "import pandas as pd\n",
    "import numpy as np\n",
    "import statsmodels.api as sm\n",
    "import statsmodels.formula.api as sma\n",
    "import matplotlib.pyplot as plt\n",
    "from statsmodels.tsa.arima_model import ARIMA\n",
    "from pandas.plotting import register_matplotlib_converters\n",
    "from constants import macroWords, sectorWords, tickerList, companies\n",
    "import warnings\n",
    "from os.path import isfile, join, isdir\n",
    "from os import mkdir\n",
    "import sys\n",
    "import pickle\n",
    "from pandas import Timestamp\n",
    "import time\n",
    "from run_SARIMA import readData\n",
    "# from residualRegression import readNews\n",
    "tickers = {\n",
    "'wmt': 'wal-mart stores', \n",
    "'f': 'ford motor', \n",
    "'bac': 'bank of america corp', \n",
    "'low': 'lowes cos.', \n",
    "'aapl': 'Apple inc'  \n",
    "}"
   ]
  },
  {
   "cell_type": "code",
   "execution_count": 4,
   "metadata": {},
   "outputs": [],
   "source": [
    "# series data path\n",
    "seriesdp = 'Data/stocks_dateRange/'\n",
    "modelpath = 'results/'\n",
    "# first out of sample date\n",
    "oos_start = Timestamp('2013-01-03 00:00:00')\n",
    "stop_date = Timestamp('2012-06-22 00:00:00')"
   ]
  },
  {
   "cell_type": "code",
   "execution_count": 106,
   "metadata": {},
   "outputs": [],
   "source": [
    "def getCombine(df_larger, df_smaller):\n",
    "    for i in list(df_larger.index):\n",
    "        if i in list(df_smaller.index):\n",
    "            df_larger[i] += df_smaller[i]\n",
    "        else:\n",
    "            continue\n",
    "    return df_larger"
   ]
  },
  {
   "cell_type": "code",
   "execution_count": 107,
   "metadata": {},
   "outputs": [],
   "source": [
    "warnings.filterwarnings(\"ignore\")"
   ]
  },
  {
   "cell_type": "code",
   "execution_count": 125,
   "metadata": {},
   "outputs": [
    {
     "name": "stdout",
     "output_type": "stream",
     "text": [
      "wmt: wal-mart stores\n",
      "Reading data for wal-mart stores wmt\n",
      "The RMSE on test set without news is 1.0473\n",
      "The RMSE on test set is 1.0472\n",
      "The reduction in RMSE on test set is 0.007894\n",
      "\n",
      "f: ford motor\n",
      "Reading data for ford motor f\n",
      "The RMSE on test set without news is 2.0783\n",
      "The RMSE on test set is 2.054\n",
      "The reduction in RMSE on test set is 1.17255\n",
      "\n",
      "bac: bank of america corp\n",
      "Reading data for bank of america corp bac\n",
      "The RMSE on test set without news is 2.0918\n",
      "The RMSE on test set is 2.0789\n",
      "The reduction in RMSE on test set is 0.61483\n",
      "\n",
      "low: lowes cos.\n",
      "Reading data for lowes cos. low\n",
      "The RMSE on test set without news is 2.0488\n",
      "The RMSE on test set is 2.0321\n",
      "The reduction in RMSE on test set is 0.817035\n",
      "\n",
      "aapl: Apple inc\n",
      "Reading data for Apple inc aapl\n",
      "The RMSE on test set without news is 2.5401\n",
      "The RMSE on test set is 2.5394\n",
      "The reduction in RMSE on test set is 0.030431\n",
      "\n"
     ]
    }
   ],
   "source": [
    "from math import sqrt\n",
    "yhatfinals = {}\n",
    "running_rmse1_sum = 0\n",
    "running_rmse2_sum = 0\n",
    "running_sum_improvement = 0\n",
    "for ticker, name in tickers.items():\n",
    "    print(ticker + \": \" + name)\n",
    "    # Get time series data\n",
    "    data = readData(seriesdp, ticker, name, 'adjclose')\n",
    "    \n",
    "    # Get news data\n",
    "    news = readNews(ticker)\n",
    "    news = news[oos_start:]\n",
    "    \n",
    "    # Get model 1\n",
    "    with open(modelpath + ticker + \"/\" + \"model.pkl\", 'rb') as pickle_file:\n",
    "        model1 = pickle.load(pickle_file)\n",
    "    \n",
    "    # Predict with model 1\n",
    "    predictions = model1.apply(data)\n",
    "    pred = predictions.get_prediction(dynamic=False)\n",
    "    yhat1 = pred.predicted_mean\n",
    "    yhat1 = yhat1[oos_start:]\n",
    "    \n",
    "    rmse_test1 = sqrt(((data[oos_start:].pct_change()[1:] - yhat1.pct_change()[1:])**2).mean())\n",
    "    running_rmse1_sum += rmse_test1\n",
    "    print('The RMSE on test set without news is {}'.format(round(rmse_test1*100, 4)))\n",
    "        \n",
    "    # Get model 2\n",
    "    with open(modelpath + ticker + \"/\" + \"model_part2.pkl\", 'rb') as pickle_file:\n",
    "        model2 = pickle.load(pickle_file)\n",
    "    \n",
    "    # Predict with model 2\n",
    "    yhat2 = model2.predict(news)\n",
    "    \n",
    "    # Add the two predictions if possible\n",
    "    yhat_final = getCombine(yhat1, yhat2)\n",
    "    yhatfinals[ticker] = yhat_final\n",
    "    \n",
    "    \n",
    "    rmse_test2 = sqrt(((data[oos_start:].pct_change()[1:] - yhat_final.pct_change()[1:])**2).mean())\n",
    "    running_rmse2_sum += rmse_test2\n",
    "    print('The RMSE on test set is {}'.format(round(rmse_test2*100, 4)))\n",
    "    \n",
    "    reduction_rmse = abs(rmse_test1 - rmse_test2)/rmse_test1\n",
    "    running_sum_improvement+= reduction_rmse\n",
    "    print('The reduction in RMSE on test set is {}\\n'.format(round(reduction_rmse*100, 6)))\n"
   ]
  },
  {
   "cell_type": "code",
   "execution_count": 124,
   "metadata": {},
   "outputs": [
    {
     "name": "stdout",
     "output_type": "stream",
     "text": [
      "1.9612678147971796\n",
      "1.9503026836382085\n",
      "0.5285480431642454\n"
     ]
    }
   ],
   "source": [
    "print(running_rmse1_sum/5*100)\n",
    "print(running_rmse2_sum/5*100)\n",
    "print(running_sum_improvement/5*100)"
   ]
  },
  {
   "cell_type": "code",
   "execution_count": null,
   "metadata": {},
   "outputs": [],
   "source": [
    "yhatfinals"
   ]
  },
  {
   "cell_type": "code",
   "execution_count": 5,
   "metadata": {},
   "outputs": [
    {
     "name": "stdout",
     "output_type": "stream",
     "text": [
      "Reading data for wal-mart stores wmt\n",
      "Reading data for ford motor f\n",
      "Reading data for bank of america corp bac\n",
      "Reading data for lowes cos. low\n",
      "Reading data for Apple inc aapl\n"
     ]
    }
   ],
   "source": [
    "actualData = {}\n",
    "for ticker, name in tickers.items():\n",
    "    actualData[ticker] = readData(seriesdp, ticker, name, 'adjclose')"
   ]
  },
  {
   "cell_type": "code",
   "execution_count": 453,
   "metadata": {},
   "outputs": [
    {
     "name": "stdout",
     "output_type": "stream",
     "text": [
      "Reading data for ivv IVV\n"
     ]
    }
   ],
   "source": [
    "sp500 = readData(\"Data/etfs/\", 'IVV', \"ivv\", ['net returns', 'rolling variance'])"
   ]
  },
  {
   "cell_type": "code",
   "execution_count": 454,
   "metadata": {},
   "outputs": [
    {
     "data": {
      "text/plain": [
       "<matplotlib.axes._subplots.AxesSubplot at 0x22bf1f5ab80>"
      ]
     },
     "execution_count": 454,
     "metadata": {},
     "output_type": "execute_result"
    },
    {
     "data": {
      "image/png": "[encoded data removed]",
      "text/plain": [
       "<Figure size 921.6x633.6 with 1 Axes>"
      ]
     },
     "metadata": {
      "needs_background": "light"
     },
     "output_type": "display_data"
    }
   ],
   "source": [
    "sp500['2013-01-04':].plot()"
   ]
  },
  {
   "cell_type": "code",
   "execution_count": 6,
   "metadata": {},
   "outputs": [],
   "source": [
    "stock5 = pd.DataFrame.from_dict(actualData)"
   ]
  },
  {
   "cell_type": "code",
   "execution_count": 187,
   "metadata": {},
   "outputs": [
    {
     "data": {
      "text/html": [
       "<div>\n",
       "<style scoped>\n",
       "    .dataframe tbody tr th:only-of-type {\n",
       "        vertical-align: middle;\n",
       "    }\n",
       "\n",
       "    .dataframe tbody tr th {\n",
       "        vertical-align: top;\n",
       "    }\n",
       "\n",
       "    .dataframe thead th {\n",
       "        text-align: right;\n",
       "    }\n",
       "</style>\n",
       "<table border=\"1\" class=\"dataframe\">\n",
       "  <thead>\n",
       "    <tr style=\"text-align: right;\">\n",
       "      <th></th>\n",
       "      <th>wmt</th>\n",
       "      <th>f</th>\n",
       "      <th>bac</th>\n",
       "      <th>low</th>\n",
       "      <th>aapl</th>\n",
       "    </tr>\n",
       "    <tr>\n",
       "      <th>date</th>\n",
       "      <th></th>\n",
       "      <th></th>\n",
       "      <th></th>\n",
       "      <th></th>\n",
       "      <th></th>\n",
       "    </tr>\n",
       "  </thead>\n",
       "  <tbody>\n",
       "    <tr>\n",
       "      <th>2006-10-23</th>\n",
       "      <td>0.038688</td>\n",
       "      <td>-0.013733</td>\n",
       "      <td>0.000747</td>\n",
       "      <td>0.021157</td>\n",
       "      <td>0.018887</td>\n",
       "    </tr>\n",
       "    <tr>\n",
       "      <th>2006-10-24</th>\n",
       "      <td>0.000390</td>\n",
       "      <td>0.050633</td>\n",
       "      <td>-0.004287</td>\n",
       "      <td>-0.014244</td>\n",
       "      <td>-0.005033</td>\n",
       "    </tr>\n",
       "    <tr>\n",
       "      <th>2006-10-25</th>\n",
       "      <td>-0.008772</td>\n",
       "      <td>0.022892</td>\n",
       "      <td>0.010668</td>\n",
       "      <td>-0.014779</td>\n",
       "      <td>0.007773</td>\n",
       "    </tr>\n",
       "    <tr>\n",
       "      <th>2006-10-26</th>\n",
       "      <td>0.017699</td>\n",
       "      <td>-0.001178</td>\n",
       "      <td>0.003333</td>\n",
       "      <td>0.021334</td>\n",
       "      <td>0.006244</td>\n",
       "    </tr>\n",
       "    <tr>\n",
       "      <th>2006-10-27</th>\n",
       "      <td>-0.019710</td>\n",
       "      <td>-0.022406</td>\n",
       "      <td>-0.008859</td>\n",
       "      <td>-0.009791</td>\n",
       "      <td>-0.021657</td>\n",
       "    </tr>\n",
       "    <tr>\n",
       "      <th>...</th>\n",
       "      <td>...</td>\n",
       "      <td>...</td>\n",
       "      <td>...</td>\n",
       "      <td>...</td>\n",
       "      <td>...</td>\n",
       "    </tr>\n",
       "    <tr>\n",
       "      <th>2013-11-15</th>\n",
       "      <td>0.001770</td>\n",
       "      <td>-0.001170</td>\n",
       "      <td>0.008108</td>\n",
       "      <td>-0.003465</td>\n",
       "      <td>-0.006002</td>\n",
       "    </tr>\n",
       "    <tr>\n",
       "      <th>2013-11-18</th>\n",
       "      <td>0.000000</td>\n",
       "      <td>-0.005272</td>\n",
       "      <td>0.000000</td>\n",
       "      <td>-0.016999</td>\n",
       "      <td>-0.012114</td>\n",
       "    </tr>\n",
       "    <tr>\n",
       "      <th>2013-11-19</th>\n",
       "      <td>0.000379</td>\n",
       "      <td>-0.006478</td>\n",
       "      <td>0.018767</td>\n",
       "      <td>-0.008843</td>\n",
       "      <td>0.001774</td>\n",
       "    </tr>\n",
       "    <tr>\n",
       "      <th>2013-11-20</th>\n",
       "      <td>-0.004416</td>\n",
       "      <td>0.002964</td>\n",
       "      <td>-0.003947</td>\n",
       "      <td>-0.061657</td>\n",
       "      <td>-0.008757</td>\n",
       "    </tr>\n",
       "    <tr>\n",
       "      <th>2013-11-21</th>\n",
       "      <td>-0.000507</td>\n",
       "      <td>0.010047</td>\n",
       "      <td>0.029723</td>\n",
       "      <td>0.018382</td>\n",
       "      <td>0.011922</td>\n",
       "    </tr>\n",
       "  </tbody>\n",
       "</table>\n",
       "<p>1784 rows × 5 columns</p>\n",
       "</div>"
      ],
      "text/plain": [
       "                 wmt         f       bac       low      aapl\n",
       "date                                                        \n",
       "2006-10-23  0.038688 -0.013733  0.000747  0.021157  0.018887\n",
       "2006-10-24  0.000390  0.050633 -0.004287 -0.014244 -0.005033\n",
       "2006-10-25 -0.008772  0.022892  0.010668 -0.014779  0.007773\n",
       "2006-10-26  0.017699 -0.001178  0.003333  0.021334  0.006244\n",
       "2006-10-27 -0.019710 -0.022406 -0.008859 -0.009791 -0.021657\n",
       "...              ...       ...       ...       ...       ...\n",
       "2013-11-15  0.001770 -0.001170  0.008108 -0.003465 -0.006002\n",
       "2013-11-18  0.000000 -0.005272  0.000000 -0.016999 -0.012114\n",
       "2013-11-19  0.000379 -0.006478  0.018767 -0.008843  0.001774\n",
       "2013-11-20 -0.004416  0.002964 -0.003947 -0.061657 -0.008757\n",
       "2013-11-21 -0.000507  0.010047  0.029723  0.018382  0.011922\n",
       "\n",
       "[1784 rows x 5 columns]"
      ]
     },
     "execution_count": 187,
     "metadata": {},
     "output_type": "execute_result"
    }
   ],
   "source": [
    "stock5 = stock5.pct_change().dropna()\n"
   ]
  },
  {
   "cell_type": "code",
   "execution_count": 194,
   "metadata": {},
   "outputs": [
    {
     "data": {
      "text/html": [
       "<div>\n",
       "<style scoped>\n",
       "    .dataframe tbody tr th:only-of-type {\n",
       "        vertical-align: middle;\n",
       "    }\n",
       "\n",
       "    .dataframe tbody tr th {\n",
       "        vertical-align: top;\n",
       "    }\n",
       "\n",
       "    .dataframe thead th {\n",
       "        text-align: right;\n",
       "    }\n",
       "</style>\n",
       "<table border=\"1\" class=\"dataframe\">\n",
       "  <thead>\n",
       "    <tr style=\"text-align: right;\">\n",
       "      <th></th>\n",
       "      <th></th>\n",
       "      <th>wmt</th>\n",
       "      <th>f</th>\n",
       "      <th>bac</th>\n",
       "      <th>low</th>\n",
       "      <th>aapl</th>\n",
       "    </tr>\n",
       "    <tr>\n",
       "      <th>date</th>\n",
       "      <th></th>\n",
       "      <th></th>\n",
       "      <th></th>\n",
       "      <th></th>\n",
       "      <th></th>\n",
       "      <th></th>\n",
       "    </tr>\n",
       "  </thead>\n",
       "  <tbody>\n",
       "    <tr>\n",
       "      <th rowspan=\"5\" valign=\"top\">2007-10-23</th>\n",
       "      <th>wmt</th>\n",
       "      <td>0.000148</td>\n",
       "      <td>0.000078</td>\n",
       "      <td>0.000058</td>\n",
       "      <td>0.000113</td>\n",
       "      <td>0.000049</td>\n",
       "    </tr>\n",
       "    <tr>\n",
       "      <th>f</th>\n",
       "      <td>0.000078</td>\n",
       "      <td>0.000440</td>\n",
       "      <td>0.000064</td>\n",
       "      <td>0.000076</td>\n",
       "      <td>0.000084</td>\n",
       "    </tr>\n",
       "    <tr>\n",
       "      <th>bac</th>\n",
       "      <td>0.000058</td>\n",
       "      <td>0.000064</td>\n",
       "      <td>0.000102</td>\n",
       "      <td>0.000075</td>\n",
       "      <td>0.000061</td>\n",
       "    </tr>\n",
       "    <tr>\n",
       "      <th>low</th>\n",
       "      <td>0.000113</td>\n",
       "      <td>0.000076</td>\n",
       "      <td>0.000075</td>\n",
       "      <td>0.000251</td>\n",
       "      <td>0.000087</td>\n",
       "    </tr>\n",
       "    <tr>\n",
       "      <th>aapl</th>\n",
       "      <td>0.000049</td>\n",
       "      <td>0.000084</td>\n",
       "      <td>0.000061</td>\n",
       "      <td>0.000087</td>\n",
       "      <td>0.000471</td>\n",
       "    </tr>\n",
       "    <tr>\n",
       "      <th>...</th>\n",
       "      <th>...</th>\n",
       "      <td>...</td>\n",
       "      <td>...</td>\n",
       "      <td>...</td>\n",
       "      <td>...</td>\n",
       "      <td>...</td>\n",
       "    </tr>\n",
       "    <tr>\n",
       "      <th rowspan=\"5\" valign=\"top\">2013-11-21</th>\n",
       "      <th>wmt</th>\n",
       "      <td>0.000068</td>\n",
       "      <td>0.000034</td>\n",
       "      <td>0.000033</td>\n",
       "      <td>0.000036</td>\n",
       "      <td>0.000005</td>\n",
       "    </tr>\n",
       "    <tr>\n",
       "      <th>f</th>\n",
       "      <td>0.000034</td>\n",
       "      <td>0.000224</td>\n",
       "      <td>0.000114</td>\n",
       "      <td>0.000106</td>\n",
       "      <td>0.000064</td>\n",
       "    </tr>\n",
       "    <tr>\n",
       "      <th>bac</th>\n",
       "      <td>0.000033</td>\n",
       "      <td>0.000114</td>\n",
       "      <td>0.000248</td>\n",
       "      <td>0.000092</td>\n",
       "      <td>0.000049</td>\n",
       "    </tr>\n",
       "    <tr>\n",
       "      <th>low</th>\n",
       "      <td>0.000036</td>\n",
       "      <td>0.000106</td>\n",
       "      <td>0.000092</td>\n",
       "      <td>0.000210</td>\n",
       "      <td>0.000052</td>\n",
       "    </tr>\n",
       "    <tr>\n",
       "      <th>aapl</th>\n",
       "      <td>0.000005</td>\n",
       "      <td>0.000064</td>\n",
       "      <td>0.000049</td>\n",
       "      <td>0.000052</td>\n",
       "      <td>0.000356</td>\n",
       "    </tr>\n",
       "  </tbody>\n",
       "</table>\n",
       "<p>7665 rows × 5 columns</p>\n",
       "</div>"
      ],
      "text/plain": [
       "                      wmt         f       bac       low      aapl\n",
       "date                                                             \n",
       "2007-10-23 wmt   0.000148  0.000078  0.000058  0.000113  0.000049\n",
       "           f     0.000078  0.000440  0.000064  0.000076  0.000084\n",
       "           bac   0.000058  0.000064  0.000102  0.000075  0.000061\n",
       "           low   0.000113  0.000076  0.000075  0.000251  0.000087\n",
       "           aapl  0.000049  0.000084  0.000061  0.000087  0.000471\n",
       "...                   ...       ...       ...       ...       ...\n",
       "2013-11-21 wmt   0.000068  0.000034  0.000033  0.000036  0.000005\n",
       "           f     0.000034  0.000224  0.000114  0.000106  0.000064\n",
       "           bac   0.000033  0.000114  0.000248  0.000092  0.000049\n",
       "           low   0.000036  0.000106  0.000092  0.000210  0.000052\n",
       "           aapl  0.000005  0.000064  0.000049  0.000052  0.000356\n",
       "\n",
       "[7665 rows x 5 columns]"
      ]
     },
     "execution_count": 194,
     "metadata": {},
     "output_type": "execute_result"
    }
   ],
   "source": [
    "covariances = stock5.rolling(252).cov(pairwise=True).dropna()\n",
    "covariances"
   ]
  },
  {
   "cell_type": "code",
   "execution_count": 203,
   "metadata": {},
   "outputs": [
    {
     "data": {
      "text/html": [
       "<div>\n",
       "<style scoped>\n",
       "    .dataframe tbody tr th:only-of-type {\n",
       "        vertical-align: middle;\n",
       "    }\n",
       "\n",
       "    .dataframe tbody tr th {\n",
       "        vertical-align: top;\n",
       "    }\n",
       "\n",
       "    .dataframe thead th {\n",
       "        text-align: right;\n",
       "    }\n",
       "</style>\n",
       "<table border=\"1\" class=\"dataframe\">\n",
       "  <thead>\n",
       "    <tr style=\"text-align: right;\">\n",
       "      <th></th>\n",
       "      <th>wmt</th>\n",
       "      <th>f</th>\n",
       "      <th>bac</th>\n",
       "      <th>low</th>\n",
       "      <th>aapl</th>\n",
       "    </tr>\n",
       "    <tr>\n",
       "      <th>date</th>\n",
       "      <th></th>\n",
       "      <th></th>\n",
       "      <th></th>\n",
       "      <th></th>\n",
       "      <th></th>\n",
       "    </tr>\n",
       "  </thead>\n",
       "  <tbody>\n",
       "    <tr>\n",
       "      <th>2013-01-04</th>\n",
       "      <td>57.769993</td>\n",
       "      <td>9.716428</td>\n",
       "      <td>10.950389</td>\n",
       "      <td>31.337824</td>\n",
       "      <td>65.931404</td>\n",
       "    </tr>\n",
       "    <tr>\n",
       "      <th>2013-01-07</th>\n",
       "      <td>57.217915</td>\n",
       "      <td>9.616186</td>\n",
       "      <td>10.932302</td>\n",
       "      <td>30.615582</td>\n",
       "      <td>65.543602</td>\n",
       "    </tr>\n",
       "    <tr>\n",
       "      <th>2013-01-08</th>\n",
       "      <td>57.376854</td>\n",
       "      <td>9.558906</td>\n",
       "      <td>10.832834</td>\n",
       "      <td>30.633196</td>\n",
       "      <td>65.719994</td>\n",
       "    </tr>\n",
       "    <tr>\n",
       "      <th>2013-01-09</th>\n",
       "      <td>57.360115</td>\n",
       "      <td>9.644829</td>\n",
       "      <td>10.335505</td>\n",
       "      <td>30.721279</td>\n",
       "      <td>64.692863</td>\n",
       "    </tr>\n",
       "    <tr>\n",
       "      <th>2013-01-10</th>\n",
       "      <td>57.184444</td>\n",
       "      <td>9.902595</td>\n",
       "      <td>10.651989</td>\n",
       "      <td>31.311388</td>\n",
       "      <td>65.494797</td>\n",
       "    </tr>\n",
       "    <tr>\n",
       "      <th>...</th>\n",
       "      <td>...</td>\n",
       "      <td>...</td>\n",
       "      <td>...</td>\n",
       "      <td>...</td>\n",
       "      <td>...</td>\n",
       "    </tr>\n",
       "    <tr>\n",
       "      <th>2013-11-15</th>\n",
       "      <td>67.504044</td>\n",
       "      <td>12.547274</td>\n",
       "      <td>13.523049</td>\n",
       "      <td>46.351376</td>\n",
       "      <td>67.329903</td>\n",
       "    </tr>\n",
       "    <tr>\n",
       "      <th>2013-11-18</th>\n",
       "      <td>67.504044</td>\n",
       "      <td>12.481121</td>\n",
       "      <td>13.523049</td>\n",
       "      <td>45.563465</td>\n",
       "      <td>66.514236</td>\n",
       "    </tr>\n",
       "    <tr>\n",
       "      <th>2013-11-19</th>\n",
       "      <td>67.529633</td>\n",
       "      <td>12.400268</td>\n",
       "      <td>13.776830</td>\n",
       "      <td>45.160561</td>\n",
       "      <td>66.632217</td>\n",
       "    </tr>\n",
       "    <tr>\n",
       "      <th>2013-11-20</th>\n",
       "      <td>67.231400</td>\n",
       "      <td>12.437018</td>\n",
       "      <td>13.722448</td>\n",
       "      <td>42.376080</td>\n",
       "      <td>66.048691</td>\n",
       "    </tr>\n",
       "    <tr>\n",
       "      <th>2013-11-21</th>\n",
       "      <td>67.197304</td>\n",
       "      <td>12.561977</td>\n",
       "      <td>14.130318</td>\n",
       "      <td>43.155029</td>\n",
       "      <td>66.836136</td>\n",
       "    </tr>\n",
       "  </tbody>\n",
       "</table>\n",
       "<p>224 rows × 5 columns</p>\n",
       "</div>"
      ],
      "text/plain": [
       "                  wmt          f        bac        low       aapl\n",
       "date                                                             \n",
       "2013-01-04  57.769993   9.716428  10.950389  31.337824  65.931404\n",
       "2013-01-07  57.217915   9.616186  10.932302  30.615582  65.543602\n",
       "2013-01-08  57.376854   9.558906  10.832834  30.633196  65.719994\n",
       "2013-01-09  57.360115   9.644829  10.335505  30.721279  64.692863\n",
       "2013-01-10  57.184444   9.902595  10.651989  31.311388  65.494797\n",
       "...               ...        ...        ...        ...        ...\n",
       "2013-11-15  67.504044  12.547274  13.523049  46.351376  67.329903\n",
       "2013-11-18  67.504044  12.481121  13.523049  45.563465  66.514236\n",
       "2013-11-19  67.529633  12.400268  13.776830  45.160561  66.632217\n",
       "2013-11-20  67.231400  12.437018  13.722448  42.376080  66.048691\n",
       "2013-11-21  67.197304  12.561977  14.130318  43.155029  66.836136\n",
       "\n",
       "[224 rows x 5 columns]"
      ]
     },
     "execution_count": 203,
     "metadata": {},
     "output_type": "execute_result"
    }
   ],
   "source": [
    "stock5['2013-01-04':]"
   ]
  },
  {
   "cell_type": "code",
   "execution_count": 198,
   "metadata": {},
   "outputs": [
    {
     "data": {
      "text/html": [
       "<div>\n",
       "<style scoped>\n",
       "    .dataframe tbody tr th:only-of-type {\n",
       "        vertical-align: middle;\n",
       "    }\n",
       "\n",
       "    .dataframe tbody tr th {\n",
       "        vertical-align: top;\n",
       "    }\n",
       "\n",
       "    .dataframe thead th {\n",
       "        text-align: right;\n",
       "    }\n",
       "</style>\n",
       "<table border=\"1\" class=\"dataframe\">\n",
       "  <thead>\n",
       "    <tr style=\"text-align: right;\">\n",
       "      <th></th>\n",
       "      <th></th>\n",
       "      <th>wmt</th>\n",
       "      <th>f</th>\n",
       "      <th>bac</th>\n",
       "      <th>low</th>\n",
       "      <th>aapl</th>\n",
       "    </tr>\n",
       "    <tr>\n",
       "      <th>date</th>\n",
       "      <th></th>\n",
       "      <th></th>\n",
       "      <th></th>\n",
       "      <th></th>\n",
       "      <th></th>\n",
       "      <th></th>\n",
       "    </tr>\n",
       "  </thead>\n",
       "  <tbody>\n",
       "    <tr>\n",
       "      <th rowspan=\"5\" valign=\"top\">2013-01-03</th>\n",
       "      <th>wmt</th>\n",
       "      <td>0.000106</td>\n",
       "      <td>0.000030</td>\n",
       "      <td>0.000052</td>\n",
       "      <td>0.000030</td>\n",
       "      <td>0.000031</td>\n",
       "    </tr>\n",
       "    <tr>\n",
       "      <th>f</th>\n",
       "      <td>0.000030</td>\n",
       "      <td>0.000258</td>\n",
       "      <td>0.000205</td>\n",
       "      <td>0.000077</td>\n",
       "      <td>0.000103</td>\n",
       "    </tr>\n",
       "    <tr>\n",
       "      <th>bac</th>\n",
       "      <td>0.000052</td>\n",
       "      <td>0.000205</td>\n",
       "      <td>0.000607</td>\n",
       "      <td>0.000140</td>\n",
       "      <td>0.000122</td>\n",
       "    </tr>\n",
       "    <tr>\n",
       "      <th>low</th>\n",
       "      <td>0.000030</td>\n",
       "      <td>0.000077</td>\n",
       "      <td>0.000140</td>\n",
       "      <td>0.000279</td>\n",
       "      <td>0.000051</td>\n",
       "    </tr>\n",
       "    <tr>\n",
       "      <th>aapl</th>\n",
       "      <td>0.000031</td>\n",
       "      <td>0.000103</td>\n",
       "      <td>0.000122</td>\n",
       "      <td>0.000051</td>\n",
       "      <td>0.000346</td>\n",
       "    </tr>\n",
       "    <tr>\n",
       "      <th>...</th>\n",
       "      <th>...</th>\n",
       "      <td>...</td>\n",
       "      <td>...</td>\n",
       "      <td>...</td>\n",
       "      <td>...</td>\n",
       "      <td>...</td>\n",
       "    </tr>\n",
       "    <tr>\n",
       "      <th rowspan=\"5\" valign=\"top\">2013-11-20</th>\n",
       "      <th>wmt</th>\n",
       "      <td>0.000068</td>\n",
       "      <td>0.000034</td>\n",
       "      <td>0.000033</td>\n",
       "      <td>0.000037</td>\n",
       "      <td>0.000005</td>\n",
       "    </tr>\n",
       "    <tr>\n",
       "      <th>f</th>\n",
       "      <td>0.000034</td>\n",
       "      <td>0.000223</td>\n",
       "      <td>0.000113</td>\n",
       "      <td>0.000105</td>\n",
       "      <td>0.000064</td>\n",
       "    </tr>\n",
       "    <tr>\n",
       "      <th>bac</th>\n",
       "      <td>0.000033</td>\n",
       "      <td>0.000113</td>\n",
       "      <td>0.000245</td>\n",
       "      <td>0.000090</td>\n",
       "      <td>0.000048</td>\n",
       "    </tr>\n",
       "    <tr>\n",
       "      <th>low</th>\n",
       "      <td>0.000037</td>\n",
       "      <td>0.000105</td>\n",
       "      <td>0.000090</td>\n",
       "      <td>0.000209</td>\n",
       "      <td>0.000051</td>\n",
       "    </tr>\n",
       "    <tr>\n",
       "      <th>aapl</th>\n",
       "      <td>0.000005</td>\n",
       "      <td>0.000064</td>\n",
       "      <td>0.000048</td>\n",
       "      <td>0.000051</td>\n",
       "      <td>0.000355</td>\n",
       "    </tr>\n",
       "  </tbody>\n",
       "</table>\n",
       "<p>1120 rows × 5 columns</p>\n",
       "</div>"
      ],
      "text/plain": [
       "                      wmt         f       bac       low      aapl\n",
       "date                                                             \n",
       "2013-01-03 wmt   0.000106  0.000030  0.000052  0.000030  0.000031\n",
       "           f     0.000030  0.000258  0.000205  0.000077  0.000103\n",
       "           bac   0.000052  0.000205  0.000607  0.000140  0.000122\n",
       "           low   0.000030  0.000077  0.000140  0.000279  0.000051\n",
       "           aapl  0.000031  0.000103  0.000122  0.000051  0.000346\n",
       "...                   ...       ...       ...       ...       ...\n",
       "2013-11-20 wmt   0.000068  0.000034  0.000033  0.000037  0.000005\n",
       "           f     0.000034  0.000223  0.000113  0.000105  0.000064\n",
       "           bac   0.000033  0.000113  0.000245  0.000090  0.000048\n",
       "           low   0.000037  0.000105  0.000090  0.000209  0.000051\n",
       "           aapl  0.000005  0.000064  0.000048  0.000051  0.000355\n",
       "\n",
       "[1120 rows x 5 columns]"
      ]
     },
     "execution_count": 198,
     "metadata": {},
     "output_type": "execute_result"
    }
   ],
   "source": [
    "covariances = covariances['2013-01-03':'2013-11-20']\n",
    "covariances"
   ]
  },
  {
   "cell_type": "code",
   "execution_count": 217,
   "metadata": {},
   "outputs": [
    {
     "data": {
      "text/plain": [
       "array([[1.05890226e-04, 3.01071898e-05, 5.18000339e-05, 2.99907629e-05,\n",
       "        3.09999329e-05],\n",
       "       [3.01071898e-05, 2.57880840e-04, 2.04629803e-04, 7.70602404e-05,\n",
       "        1.03194448e-04],\n",
       "       [5.18000339e-05, 2.04629803e-04, 6.06527102e-04, 1.40229750e-04,\n",
       "        1.21712049e-04],\n",
       "       [2.99907629e-05, 7.70602404e-05, 1.40229750e-04, 2.79234900e-04,\n",
       "        5.06764844e-05],\n",
       "       [3.09999329e-05, 1.03194448e-04, 1.21712049e-04, 5.06764844e-05,\n",
       "        3.46406852e-04]])"
      ]
     },
     "execution_count": 217,
     "metadata": {},
     "output_type": "execute_result"
    }
   ],
   "source": [
    "np.array(covariances['2013-01-03':'2013-01-03'].values)"
   ]
  },
  {
   "cell_type": "code",
   "execution_count": 197,
   "metadata": {},
   "outputs": [
    {
     "data": {
      "text/html": [
       "<div>\n",
       "<style scoped>\n",
       "    .dataframe tbody tr th:only-of-type {\n",
       "        vertical-align: middle;\n",
       "    }\n",
       "\n",
       "    .dataframe tbody tr th {\n",
       "        vertical-align: top;\n",
       "    }\n",
       "\n",
       "    .dataframe thead th {\n",
       "        text-align: right;\n",
       "    }\n",
       "</style>\n",
       "<table border=\"1\" class=\"dataframe\">\n",
       "  <thead>\n",
       "    <tr style=\"text-align: right;\">\n",
       "      <th></th>\n",
       "      <th>wmt</th>\n",
       "      <th>f</th>\n",
       "      <th>bac</th>\n",
       "      <th>low</th>\n",
       "      <th>aapl</th>\n",
       "    </tr>\n",
       "    <tr>\n",
       "      <th>date</th>\n",
       "      <th></th>\n",
       "      <th></th>\n",
       "      <th></th>\n",
       "      <th></th>\n",
       "      <th></th>\n",
       "    </tr>\n",
       "  </thead>\n",
       "  <tbody>\n",
       "    <tr>\n",
       "      <th>2013-01-03</th>\n",
       "      <td>-0.005896</td>\n",
       "      <td>0.025644</td>\n",
       "      <td>-0.007746</td>\n",
       "      <td>-0.011777</td>\n",
       "      <td>-0.016022</td>\n",
       "    </tr>\n",
       "    <tr>\n",
       "      <th>2013-01-04</th>\n",
       "      <td>0.003353</td>\n",
       "      <td>0.002128</td>\n",
       "      <td>0.016576</td>\n",
       "      <td>-0.005793</td>\n",
       "      <td>-0.024549</td>\n",
       "    </tr>\n",
       "    <tr>\n",
       "      <th>2013-01-07</th>\n",
       "      <td>-0.007857</td>\n",
       "      <td>-0.011047</td>\n",
       "      <td>-0.002055</td>\n",
       "      <td>-0.025461</td>\n",
       "      <td>-0.007524</td>\n",
       "    </tr>\n",
       "    <tr>\n",
       "      <th>2013-01-08</th>\n",
       "      <td>-0.001377</td>\n",
       "      <td>-0.002381</td>\n",
       "      <td>-0.015048</td>\n",
       "      <td>0.001076</td>\n",
       "      <td>0.004228</td>\n",
       "    </tr>\n",
       "    <tr>\n",
       "      <th>2013-01-09</th>\n",
       "      <td>0.003944</td>\n",
       "      <td>0.010175</td>\n",
       "      <td>-0.037042</td>\n",
       "      <td>0.004136</td>\n",
       "      <td>-0.016560</td>\n",
       "    </tr>\n",
       "    <tr>\n",
       "      <th>...</th>\n",
       "      <td>...</td>\n",
       "      <td>...</td>\n",
       "      <td>...</td>\n",
       "      <td>...</td>\n",
       "      <td>...</td>\n",
       "    </tr>\n",
       "    <tr>\n",
       "      <th>2013-11-14</th>\n",
       "      <td>0.000166</td>\n",
       "      <td>-0.001899</td>\n",
       "      <td>0.009443</td>\n",
       "      <td>0.013158</td>\n",
       "      <td>0.012579</td>\n",
       "    </tr>\n",
       "    <tr>\n",
       "      <th>2013-11-15</th>\n",
       "      <td>0.000879</td>\n",
       "      <td>-0.001824</td>\n",
       "      <td>0.006242</td>\n",
       "      <td>-0.003266</td>\n",
       "      <td>-0.007235</td>\n",
       "    </tr>\n",
       "    <tr>\n",
       "      <th>2013-11-18</th>\n",
       "      <td>0.001643</td>\n",
       "      <td>-0.003759</td>\n",
       "      <td>0.004791</td>\n",
       "      <td>-0.012976</td>\n",
       "      <td>-0.009766</td>\n",
       "    </tr>\n",
       "    <tr>\n",
       "      <th>2013-11-19</th>\n",
       "      <td>0.000965</td>\n",
       "      <td>-0.007631</td>\n",
       "      <td>0.014443</td>\n",
       "      <td>-0.012685</td>\n",
       "      <td>0.000747</td>\n",
       "    </tr>\n",
       "    <tr>\n",
       "      <th>2013-11-20</th>\n",
       "      <td>-0.004490</td>\n",
       "      <td>0.004587</td>\n",
       "      <td>-0.005072</td>\n",
       "      <td>-0.061754</td>\n",
       "      <td>-0.007008</td>\n",
       "    </tr>\n",
       "  </tbody>\n",
       "</table>\n",
       "<p>224 rows × 5 columns</p>\n",
       "</div>"
      ],
      "text/plain": [
       "                 wmt         f       bac       low      aapl\n",
       "date                                                        \n",
       "2013-01-03 -0.005896  0.025644 -0.007746 -0.011777 -0.016022\n",
       "2013-01-04  0.003353  0.002128  0.016576 -0.005793 -0.024549\n",
       "2013-01-07 -0.007857 -0.011047 -0.002055 -0.025461 -0.007524\n",
       "2013-01-08 -0.001377 -0.002381 -0.015048  0.001076  0.004228\n",
       "2013-01-09  0.003944  0.010175 -0.037042  0.004136 -0.016560\n",
       "...              ...       ...       ...       ...       ...\n",
       "2013-11-14  0.000166 -0.001899  0.009443  0.013158  0.012579\n",
       "2013-11-15  0.000879 -0.001824  0.006242 -0.003266 -0.007235\n",
       "2013-11-18  0.001643 -0.003759  0.004791 -0.012976 -0.009766\n",
       "2013-11-19  0.000965 -0.007631  0.014443 -0.012685  0.000747\n",
       "2013-11-20 -0.004490  0.004587 -0.005072 -0.061754 -0.007008\n",
       "\n",
       "[224 rows x 5 columns]"
      ]
     },
     "execution_count": 197,
     "metadata": {},
     "output_type": "execute_result"
    }
   ],
   "source": [
    "df = pd.DataFrame.from_dict(yhatfinals).pct_change().shift(-1).dropna()\n",
    "df"
   ]
  },
  {
   "cell_type": "code",
   "execution_count": 183,
   "metadata": {},
   "outputs": [
    {
     "data": {
      "text/html": [
       "<div>\n",
       "<style scoped>\n",
       "    .dataframe tbody tr th:only-of-type {\n",
       "        vertical-align: middle;\n",
       "    }\n",
       "\n",
       "    .dataframe tbody tr th {\n",
       "        vertical-align: top;\n",
       "    }\n",
       "\n",
       "    .dataframe thead th {\n",
       "        text-align: right;\n",
       "    }\n",
       "</style>\n",
       "<table border=\"1\" class=\"dataframe\">\n",
       "  <thead>\n",
       "    <tr style=\"text-align: right;\">\n",
       "      <th></th>\n",
       "      <th>net returns</th>\n",
       "      <th>rolling variance</th>\n",
       "    </tr>\n",
       "    <tr>\n",
       "      <th>date</th>\n",
       "      <th></th>\n",
       "      <th></th>\n",
       "    </tr>\n",
       "  </thead>\n",
       "  <tbody>\n",
       "    <tr>\n",
       "      <th>2013-01-04</th>\n",
       "      <td>0.004916</td>\n",
       "      <td>0.000065</td>\n",
       "    </tr>\n",
       "    <tr>\n",
       "      <th>2013-01-07</th>\n",
       "      <td>-0.003126</td>\n",
       "      <td>0.000065</td>\n",
       "    </tr>\n",
       "    <tr>\n",
       "      <th>2013-01-08</th>\n",
       "      <td>-0.002727</td>\n",
       "      <td>0.000065</td>\n",
       "    </tr>\n",
       "    <tr>\n",
       "      <th>2013-01-09</th>\n",
       "      <td>0.002666</td>\n",
       "      <td>0.000065</td>\n",
       "    </tr>\n",
       "    <tr>\n",
       "      <th>2013-01-10</th>\n",
       "      <td>0.007567</td>\n",
       "      <td>0.000065</td>\n",
       "    </tr>\n",
       "    <tr>\n",
       "      <th>...</th>\n",
       "      <td>...</td>\n",
       "      <td>...</td>\n",
       "    </tr>\n",
       "    <tr>\n",
       "      <th>2013-11-15</th>\n",
       "      <td>0.004270</td>\n",
       "      <td>0.000052</td>\n",
       "    </tr>\n",
       "    <tr>\n",
       "      <th>2013-11-18</th>\n",
       "      <td>-0.003313</td>\n",
       "      <td>0.000052</td>\n",
       "    </tr>\n",
       "    <tr>\n",
       "      <th>2013-11-19</th>\n",
       "      <td>-0.002438</td>\n",
       "      <td>0.000050</td>\n",
       "    </tr>\n",
       "    <tr>\n",
       "      <th>2013-11-20</th>\n",
       "      <td>-0.003165</td>\n",
       "      <td>0.000050</td>\n",
       "    </tr>\n",
       "    <tr>\n",
       "      <th>2013-11-21</th>\n",
       "      <td>0.007743</td>\n",
       "      <td>0.000050</td>\n",
       "    </tr>\n",
       "  </tbody>\n",
       "</table>\n",
       "<p>224 rows × 2 columns</p>\n",
       "</div>"
      ],
      "text/plain": [
       "            net returns  rolling variance\n",
       "date                                     \n",
       "2013-01-04     0.004916          0.000065\n",
       "2013-01-07    -0.003126          0.000065\n",
       "2013-01-08    -0.002727          0.000065\n",
       "2013-01-09     0.002666          0.000065\n",
       "2013-01-10     0.007567          0.000065\n",
       "...                 ...               ...\n",
       "2013-11-15     0.004270          0.000052\n",
       "2013-11-18    -0.003313          0.000052\n",
       "2013-11-19    -0.002438          0.000050\n",
       "2013-11-20    -0.003165          0.000050\n",
       "2013-11-21     0.007743          0.000050\n",
       "\n",
       "[224 rows x 2 columns]"
      ]
     },
     "execution_count": 183,
     "metadata": {},
     "output_type": "execute_result"
    }
   ],
   "source": [
    "sp500"
   ]
  },
  {
   "cell_type": "code",
   "execution_count": 345,
   "metadata": {},
   "outputs": [],
   "source": [
    "risk_free = 0.000064"
   ]
  },
  {
   "cell_type": "code",
   "execution_count": 221,
   "metadata": {},
   "outputs": [],
   "source": [
    "# Citation next three code blocks\n",
    "# https://towardsdatascience.com/efficient-frontier-portfolio-optimisation-in-python-e7844051e7f\n",
    "\n",
    "def portfolio_performance(weights, mean_returns, cov_matrix):\n",
    "    returns = np.sum(mean_returns*weights)\n",
    "    std = np.sqrt(np.dot(weights.T, np.dot(cov_matrix, weights)))\n",
    "    return std, returns"
   ]
  },
  {
   "cell_type": "code",
   "execution_count": 323,
   "metadata": {},
   "outputs": [],
   "source": [
    "def random_portfolios(num_portfolios, mean_returns, cov_matrix, risk_free_rate):\n",
    "    results = np.zeros((3,num_portfolios))\n",
    "    weights_record = []\n",
    "    for i in range(num_portfolios):\n",
    "        weights = np.random.random(5)\n",
    "        weights /= np.sum(weights)\n",
    "        weights_record.append(weights)\n",
    "        portfolio_std_dev, portfolio_return = portfolio_performance(weights, mean_returns, cov_matrix)\n",
    "        results[0,i] = portfolio_std_dev\n",
    "        results[1,i] = portfolio_return\n",
    "        results[2,i] = (portfolio_return - risk_free_rate) / (portfolio_std_dev)\n",
    "    return results, weights_record"
   ]
  },
  {
   "cell_type": "code",
   "execution_count": 474,
   "metadata": {},
   "outputs": [],
   "source": [
    "def display_simulated_ef_with_random(col, mean_returns, cov_matrix, num_portfolios, plot = False, prt = False):\n",
    "    results, weights = random_portfolios(num_portfolios,mean_returns, cov_matrix, risk_free)\n",
    "    if plot:\n",
    "        plt.figure(figsize=(10, 7))\n",
    "        plt.scatter(results[0,:],results[1,:], c=results[2,:], cmap='YlGnBu', marker='o', s=10, alpha=0.3)\n",
    "        plt.colorbar()\n",
    "        \n",
    "        plt.title('Simulated Portfolio Optimization based on Efficient Frontier')\n",
    "        plt.xlabel('Volatility')\n",
    "        plt.ylabel('Returns')\n",
    "        \n",
    "    \n",
    "    max_sharpe_idx = np.argmax(results[2])\n",
    "    sdp, rp = results[0,max_sharpe_idx], results[1,max_sharpe_idx]\n",
    "    max_sharpe_allocation = pd.DataFrame(weights[max_sharpe_idx], index = col, columns=['allocation'])\n",
    "    max_sharpe_allocation.allocation = [round(i,2)for i in max_sharpe_allocation.allocation]\n",
    "\n",
    "    min_vol_idx = np.argmin(results[0])\n",
    "    sdp_min, rp_min = results[0,min_vol_idx], results[1,min_vol_idx]\n",
    "    min_vol_allocation = pd.DataFrame(weights[min_vol_idx], index = col, columns=['allocation'])\n",
    "    min_vol_allocation.allocation = [round(i,2)for i in min_vol_allocation.allocation]\n",
    "    \n",
    "    if plot:\n",
    "        plt.scatter(sdp_min,rp_min,marker='*',color='g',s=500, label='Minimum volatility')\n",
    "        plt.scatter(sdp,rp,marker='*',color='r',s=500, label='Maximum Sharpe ratio')\n",
    "        plt.legend(labelspacing=0.8)\n",
    "    \n",
    "    if prt:\n",
    "        print (\"-\"*80)\n",
    "        print (\"Maximum Sharpe Ratio Portfolio Allocation\\n\")\n",
    "        print (\"Predicted Daily Return in %: {}\".format(round(rp*100,4)))\n",
    "        print (\"Predicted Standard Deviation in %: {}\\n\".format(round(sdp*100,4)))\n",
    "        print (max_sharpe_allocation.T)\n",
    "\n",
    "        print (\"-\"*80)\n",
    "        print (\"Minimum Volatility Portfolio Allocation\\n\")\n",
    "        print (\"Predicted Daily Return in %: {}\".format(round(rp_min*100,4)))\n",
    "        print (\"Predicted Standard Deviation in %: {}\\n\".format(round(sdp_min*100,4)))\n",
    "        print (min_vol_allocation.T)\n",
    "        \n",
    "    if plot:\n",
    "        plt.savefig('example_portfolio_construction_at_timet.png')\n",
    "        plt.show()\n",
    "        \n",
    "    \n",
    "    return max_sharpe_allocation"
   ]
  },
  {
   "cell_type": "code",
   "execution_count": 370,
   "metadata": {},
   "outputs": [],
   "source": [
    "stock_net_rel = stock_net['2013-01-03':]\n",
    "cov_rel = covariances['2013-01-03':]"
   ]
  },
  {
   "cell_type": "code",
   "execution_count": 382,
   "metadata": {},
   "outputs": [
    {
     "data": {
      "text/plain": [
       "Timestamp('2013-01-04 00:00:00')"
      ]
     },
     "execution_count": 382,
     "metadata": {},
     "output_type": "execute_result"
    }
   ],
   "source": [
    "df.index[1]"
   ]
  },
  {
   "cell_type": "code",
   "execution_count": 383,
   "metadata": {},
   "outputs": [],
   "source": [
    "returns = {}\n",
    "stddevs = {}\n",
    "ntrials = 10000\n",
    "for i in range(df.shape[0]-1):\n",
    "    pred_returns = np.array(df.iloc[i].values)\n",
    "    pred_cov = np.array(cov_rel.iloc[5*i : 5*(i+1)].values)\n",
    "    allocation = display_simulated_ef_with_random(pred_returns, pred_cov, ntrials)\n",
    "    \n",
    "    actual_returns = np.array(stock_net_rel.iloc[i].values)\n",
    "    actual_cov = np.array(cov_rel.iloc[5*(i+1) : 5*(i+2)].values)\n",
    "    rt, st = portfolio_performance(allocation, actual_returns, actual_cov)\n",
    "    \n",
    "    returns[df.index[i+1]] = rt\n",
    "    stddevs[df.index[i+1]] = st\n",
    "    \n",
    "    "
   ]
  },
  {
   "cell_type": "code",
   "execution_count": 384,
   "metadata": {},
   "outputs": [],
   "source": [
    "ret_sp500 = sp500['net returns']\n",
    "var_sp500 = sp500['rolling variance']\n",
    "sharpe_sp500 = (ret_sp500 - risk_free)/np.sqrt(var_sp500)*100"
   ]
  },
  {
   "cell_type": "code",
   "execution_count": 387,
   "metadata": {},
   "outputs": [],
   "source": [
    "ret_p = pd.Series(returns)\n",
    "stddev_p = pd.Series(stddevs)\n",
    "sharpe_portfolio = (ret_p - risk_free)/stddev_p*100"
   ]
  },
  {
   "cell_type": "code",
   "execution_count": 397,
   "metadata": {},
   "outputs": [],
   "source": [
    "gross_r_sp500 = (1 + ret_sp500).product()"
   ]
  },
  {
   "cell_type": "code",
   "execution_count": 398,
   "metadata": {},
   "outputs": [
    {
     "data": {
      "text/plain": [
       "1.253575241313604"
      ]
     },
     "execution_count": 398,
     "metadata": {},
     "output_type": "execute_result"
    }
   ],
   "source": [
    "gross_r_sp500"
   ]
  },
  {
   "cell_type": "code",
   "execution_count": 399,
   "metadata": {},
   "outputs": [
    {
     "data": {
      "text/plain": [
       "1.535589606548193"
      ]
     },
     "execution_count": 399,
     "metadata": {},
     "output_type": "execute_result"
    }
   ],
   "source": [
    "gross_r_p = (1 + ret_p).product()\n",
    "gross_r_p"
   ]
  },
  {
   "cell_type": "code",
   "execution_count": 419,
   "metadata": {},
   "outputs": [],
   "source": [
    "cum_wealth_sp500 = {}\n",
    "cum_wealth_p = {}\n",
    "\n",
    "prev_cum_sp500 = 1\n",
    "prev_cum_p = 1\n",
    "\n",
    "for index, row in ret_sp500.iteritems():\n",
    "    cum_wealth_sp500[index] = (1 + row)*prev_cum_sp500\n",
    "    prev_cum_sp500 = cum_wealth_sp500[index]\n",
    "    \n",
    "for index, row in ret_p.iteritems():\n",
    "    cum_wealth_p[index] = (1 + row)*prev_cum_p\n",
    "    prev_cum_p = cum_wealth_p[index]\n",
    "    \n",
    "cum_wealth_sp500 = pd.Series(cum_wealth_sp500, name='$1 in IVV S&P 500 ETF')[:-1]\n",
    "cum_wealth_p = pd.Series(cum_wealth_p, name=' $1 in model strategy')\n",
    "toplot = pd.concat([cum_wealth_sp500, cum_wealth_p], axis=1)\n",
    "\n",
    "    "
   ]
  },
  {
   "cell_type": "code",
   "execution_count": 420,
   "metadata": {},
   "outputs": [
    {
     "data": {
      "text/html": [
       "<div>\n",
       "<style scoped>\n",
       "    .dataframe tbody tr th:only-of-type {\n",
       "        vertical-align: middle;\n",
       "    }\n",
       "\n",
       "    .dataframe tbody tr th {\n",
       "        vertical-align: top;\n",
       "    }\n",
       "\n",
       "    .dataframe thead th {\n",
       "        text-align: right;\n",
       "    }\n",
       "</style>\n",
       "<table border=\"1\" class=\"dataframe\">\n",
       "  <thead>\n",
       "    <tr style=\"text-align: right;\">\n",
       "      <th></th>\n",
       "      <th>$1 in IVV S&amp;P 500 ETF</th>\n",
       "      <th>$1 in model strategy</th>\n",
       "    </tr>\n",
       "  </thead>\n",
       "  <tbody>\n",
       "    <tr>\n",
       "      <th>2013-01-04</th>\n",
       "      <td>1.004916</td>\n",
       "      <td>1.005169</td>\n",
       "    </tr>\n",
       "    <tr>\n",
       "      <th>2013-01-07</th>\n",
       "      <td>1.001776</td>\n",
       "      <td>0.998620</td>\n",
       "    </tr>\n",
       "    <tr>\n",
       "      <th>2013-01-08</th>\n",
       "      <td>0.999044</td>\n",
       "      <td>0.991361</td>\n",
       "    </tr>\n",
       "    <tr>\n",
       "      <th>2013-01-09</th>\n",
       "      <td>1.001707</td>\n",
       "      <td>0.982707</td>\n",
       "    </tr>\n",
       "    <tr>\n",
       "      <th>2013-01-10</th>\n",
       "      <td>1.009287</td>\n",
       "      <td>0.999450</td>\n",
       "    </tr>\n",
       "    <tr>\n",
       "      <th>...</th>\n",
       "      <td>...</td>\n",
       "      <td>...</td>\n",
       "    </tr>\n",
       "    <tr>\n",
       "      <th>2013-11-14</th>\n",
       "      <td>1.249764</td>\n",
       "      <td>1.534014</td>\n",
       "    </tr>\n",
       "    <tr>\n",
       "      <th>2013-11-15</th>\n",
       "      <td>1.255100</td>\n",
       "      <td>1.530803</td>\n",
       "    </tr>\n",
       "    <tr>\n",
       "      <th>2013-11-18</th>\n",
       "      <td>1.250942</td>\n",
       "      <td>1.528964</td>\n",
       "    </tr>\n",
       "    <tr>\n",
       "      <th>2013-11-19</th>\n",
       "      <td>1.247893</td>\n",
       "      <td>1.541190</td>\n",
       "    </tr>\n",
       "    <tr>\n",
       "      <th>2013-11-20</th>\n",
       "      <td>1.243943</td>\n",
       "      <td>1.535590</td>\n",
       "    </tr>\n",
       "  </tbody>\n",
       "</table>\n",
       "<p>223 rows × 2 columns</p>\n",
       "</div>"
      ],
      "text/plain": [
       "            $1 in IVV S&P 500 ETF   $1 in model strategy\n",
       "2013-01-04               1.004916               1.005169\n",
       "2013-01-07               1.001776               0.998620\n",
       "2013-01-08               0.999044               0.991361\n",
       "2013-01-09               1.001707               0.982707\n",
       "2013-01-10               1.009287               0.999450\n",
       "...                           ...                    ...\n",
       "2013-11-14               1.249764               1.534014\n",
       "2013-11-15               1.255100               1.530803\n",
       "2013-11-18               1.250942               1.528964\n",
       "2013-11-19               1.247893               1.541190\n",
       "2013-11-20               1.243943               1.535590\n",
       "\n",
       "[223 rows x 2 columns]"
      ]
     },
     "execution_count": 420,
     "metadata": {},
     "output_type": "execute_result"
    }
   ],
   "source": [
    "toplot"
   ]
  },
  {
   "cell_type": "code",
   "execution_count": 441,
   "metadata": {},
   "outputs": [
    {
     "data": {
      "image/png": "[encoded data removed]",
      "text/plain": [
       "<Figure size 921.6x633.6 with 1 Axes>"
      ]
     },
     "metadata": {
      "needs_background": "light"
     },
     "output_type": "display_data"
    }
   ],
   "source": [
    "plt.style.use('seaborn-poster')\n",
    "toplot.plot()\n",
    "plt.savefig('final_comparison.png')"
   ]
  },
  {
   "cell_type": "code",
   "execution_count": 7,
   "metadata": {},
   "outputs": [
    {
     "data": {
      "text/plain": [
       "0.01731002465191461"
      ]
     },
     "execution_count": 7,
     "metadata": {},
     "output_type": "execute_result"
    }
   ],
   "source": [
    "(1/stock5.loc['2013-01-04'].values[0])"
   ]
  },
  {
   "cell_type": "code",
   "execution_count": 14,
   "metadata": {},
   "outputs": [
    {
     "data": {
      "text/plain": [
       "<matplotlib.axes._subplots.AxesSubplot at 0x1a63f24e1c0>"
      ]
     },
     "execution_count": 14,
     "metadata": {},
     "output_type": "execute_result"
    },
    {
     "data": {
      "image/png": "[encoded data removed]",
      "text/plain": [
       "<Figure size 921.6x633.6 with 1 Axes>"
      ]
     },
     "metadata": {
      "needs_background": "light"
     },
     "output_type": "display_data"
    }
   ],
   "source": [
    "w = []\n",
    "for i in range(5):\n",
    "    w.append(1/(stock5.loc['2013-01-04'].values[i]))\n",
    "w = np.array(w)\n",
    "stock5['wmt']['2013-01-04':] = stock5['wmt']['2013-01-04':]*w[0]\n",
    "stock5['f']['2013-01-04':] = stock5['f']['2013-01-04':]*w[1]\n",
    "stock5['bac']['2013-01-04':] = stock5['bac']['2013-01-04':]*w[2]\n",
    "stock5['low']['2013-01-04':] = stock5['low']['2013-01-04':]*w[3]\n",
    "stock5['aapl']['2013-01-04':] = stock5['aapl']['2013-01-04':]*w[4]\n",
    "plt.style.use('seaborn-poster')\n",
    "stock5['2013-01-04':].plot(alpha =.6)"
   ]
  },
  {
   "cell_type": "code",
   "execution_count": 448,
   "metadata": {},
   "outputs": [
    {
     "ename": "NameError",
     "evalue": "name 'sp_500' is not defined",
     "output_type": "error",
     "traceback": [
      "\u001b[1;31m-----------------------------------------------------------------------\u001b[0m",
      "\u001b[1;31mNameError\u001b[0m                             Traceback (most recent call last)",
      "\u001b[1;32m<ipython-input-448-ac64be31fe94>\u001b[0m in \u001b[0;36m<module>\u001b[1;34m\u001b[0m\n\u001b[1;32m----> 1\u001b[1;33m \u001b[0msp_500\u001b[0m\u001b[1;33m\u001b[0m\u001b[1;33m\u001b[0m\u001b[0m\n\u001b[0m",
      "\u001b[1;31mNameError\u001b[0m: name 'sp_500' is not defined"
     ]
    }
   ],
   "source": [
    "sp_500"
   ]
  },
  {
   "cell_type": "code",
   "execution_count": 425,
   "metadata": {},
   "outputs": [],
   "source": [
    "sr_p = (cum_wealth_p.iloc[-1] - 1)/ret_p.std()\n",
    "sr_sp500 = (cum_wealth_sp500.iloc[-1] - 1)/ret_sp500.std()"
   ]
  },
  {
   "cell_type": "code",
   "execution_count": 426,
   "metadata": {},
   "outputs": [
    {
     "name": "stdout",
     "output_type": "stream",
     "text": [
      "44.322804290384816\n",
      "34.93065523355048\n"
     ]
    }
   ],
   "source": [
    "print(sr_p)\n",
    "print(sr_sp500)"
   ]
  },
  {
   "cell_type": "code",
   "execution_count": 427,
   "metadata": {},
   "outputs": [
    {
     "name": "stdout",
     "output_type": "stream",
     "text": [
      "0.012083838446665737\n",
      "0.006983639573665538\n"
     ]
    }
   ],
   "source": [
    "print(ret_p.std())\n",
    "print(ret_sp500.std())"
   ]
  },
  {
   "cell_type": "code",
   "execution_count": 22,
   "metadata": {},
   "outputs": [
    {
     "name": "stdout",
     "output_type": "stream",
     "text": [
      "32.188\n"
     ]
    }
   ],
   "source": [
    "rmodel = 53.56\n",
    "print(rmodel*.6 + rf2013*.4)\n",
    "#print(cum_wealth_sp500.iloc[-1] - 1)"
   ]
  },
  {
   "cell_type": "code",
   "execution_count": 440,
   "metadata": {},
   "outputs": [
    {
     "name": "stdout",
     "output_type": "stream",
     "text": [
      "223\n"
     ]
    }
   ],
   "source": [
    "print(ret_p.shape[0])"
   ]
  },
  {
   "cell_type": "code",
   "execution_count": 529,
   "metadata": {},
   "outputs": [],
   "source": [
    "i = 34\n",
    "\n",
    "orig_stdout = sys.stdout\n",
    "f = open('example_portfolio_construction_at_timet.txt', 'w')\n",
    "sys.stdout = f\n",
    "\n",
    "print(\"Snapshot of the portfolio optimizer at timestep: {}\".format(df.index[i]))\n",
    "\n",
    "allo = display_simulated_ef_with_random(df.columns, np.array(df.iloc[i].values), np.array(cov_rel.iloc[i*5:i*5+5].values), 100000, False, True)\n",
    "\n",
    "sys.stdout = orig_stdout\n",
    "f.close()\n"
   ]
  },
  {
   "cell_type": "code",
   "execution_count": 490,
   "metadata": {},
   "outputs": [
    {
     "data": {
      "image/png": "[encoded data removed]",
      "text/plain": [
       "<Figure size 921.6x633.6 with 2 Axes>"
      ]
     },
     "metadata": {
      "needs_background": "light"
     },
     "output_type": "display_data"
    }
   ],
   "source": [
    "stock_net.rename(columns={'wmt': 'Walmart', 'f': 'Ford', 'bac': 'Bank of America', 'low': 'Lowe\\'s', 'aapl' :'Apple' }, inplace = True)\n",
    "corr_matrix = stock_net[:'2013-01-04'].corr()\n",
    "import seaborn as sn\n",
    "import matplotlib.pyplot as plt\n",
    "sn.heatmap(corr_matrix, cmap= 'Reds')\n",
    "plt.yticks(rotation = 0)\n",
    "plt.savefig('corr_matrix_stock5.png')\n",
    "plt.show()"
   ]
  },
  {
   "cell_type": "code",
   "execution_count": 25,
   "metadata": {},
   "outputs": [
    {
     "name": "stdout",
     "output_type": "stream",
     "text": [
      "Robo-advisor: Acorns\n",
      "Market adjusted 2013 return is 20.59\n",
      "Robo-advisor: Ally Financial\n",
      "Market adjusted 2013 return is 25.94\n",
      "Robo-advisor: Betterment\n",
      "Market adjusted 2013 return is 28.76\n",
      "Robo-advisor: E-Trade\n",
      "Market adjusted 2013 return is 25.58\n",
      "Robo-advisor: Ellevest\n",
      "Market adjusted 2013 return is 26.09\n",
      "Robo-advisor: Fidelity Go\n",
      "Market adjusted 2013 return is 28.88\n",
      "Robo-advisor: Future Advisor\n",
      "Market adjusted 2013 return is 26.06\n",
      "Robo-advisor: Hedgeable\n",
      "Market adjusted 2013 return is 27.25\n",
      "Robo-advisor: Merrill Edge\n",
      "Market adjusted 2013 return is 24.51\n",
      "Robo-advisor: Personal Capital\n",
      "Market adjusted 2013 return is 25.02\n",
      "Robo-advisor: Schwab\n",
      "Market adjusted 2013 return is 29.59\n",
      "Robo-advisor: SigFig\n",
      "Market adjusted 2013 return is 29.77\n",
      "Robo-advisor: TD Ameritrade\n",
      "Market adjusted 2013 return is 31.61\n",
      "Robo-advisor: Vanguard\n",
      "Market adjusted 2013 return is 28.7\n",
      "Robo-advisor: Wealthfront\n",
      "Market adjusted 2013 return is 29.48\n",
      "Robo-advisor: Axos Invest\n",
      "Market adjusted 2013 return is 27.34\n",
      "19.486\n"
     ]
    }
   ],
   "source": [
    "# Final analysis\n",
    "rm2018 = 6.59\n",
    "rm2013 = 32.39\n",
    "rf2018 = 2.33\n",
    "rf2013 = 0.13\n",
    "myDict  = {'Acorns': 6.93,\n",
    "'Ally Financial':8.73,\n",
    "'Betterment' : 9.68, \n",
    "'E-Trade': 8.61,\n",
    "'Ellevest': 8.78,\n",
    "'Fidelity Go': 9.72,\n",
    "'Future Advisor': 8.77,\n",
    "'Hedgeable': 9.17,\n",
    "'Merrill Edge': 8.25,\n",
    "'Personal Capital': 8.42,\n",
    "'Schwab': 9.96,\n",
    "'SigFig' :10.02,\n",
    "'TD Ameritrade': 10.64,\n",
    "'Vanguard' :9.66,     \n",
    "'Wealthfront': 9.92,\n",
    "'Axos Invest':9.20}\n",
    "\n",
    "for key, value in myDict.items():\n",
    "    r2013 = 0.6*(rm2013/rm2018)*value + 0.4*(rf2013/rf2018)*value\n",
    "    print(key + '\\& ' + str(value) + '\\& {} \\\\\\\\\\\\hline\\n'.format(round(r2013, 2)))\n",
    "    \n",
    "print(0.6*rm2013 + 0.4*rf2013)"
   ]
  },
  {
   "cell_type": "code",
   "execution_count": null,
   "metadata": {},
   "outputs": [],
   "source": []
  }
 ],
 "metadata": {
  "kernelspec": {
   "display_name": "Python 3",
   "language": "python",
   "name": "python3"
  },
  "language_info": {
   "codemirror_mode": {
    "name": "ipython",
    "version": 3
   },
   "file_extension": ".py",
   "mimetype": "text/x-python",
   "name": "python",
   "nbconvert_exporter": "python",
   "pygments_lexer": "ipython3",
   "version": "3.8.2"
  }
 },
 "nbformat": 4,
 "nbformat_minor": 4
}
